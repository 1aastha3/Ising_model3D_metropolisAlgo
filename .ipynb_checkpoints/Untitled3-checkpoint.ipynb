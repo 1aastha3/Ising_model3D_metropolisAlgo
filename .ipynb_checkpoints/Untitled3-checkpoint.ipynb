{
 "cells": [
  {
   "cell_type": "code",
   "execution_count": 2,
   "id": "0b29565e",
   "metadata": {},
   "outputs": [],
   "source": [
    "%matplotlib inline\n",
    "from math import pi\n",
    "import numpy as np\n",
    "import matplotlib.pyplot as plt\n",
    "\n",
    "from numpy.random import rand, randint\n",
    "\n",
    "L = 20           # lattice size is LxL\n",
    "kB = 1.0         # Boltzman constant\n",
    "\n",
    "J = 1.0          # coupling constant\n",
    "\n",
    "# help( randint )"
   ]
  },
  {
   "cell_type": "code",
   "execution_count": 3,
   "id": "d33d8391",
   "metadata": {},
   "outputs": [],
   "source": [
    "N = 20\n",
    "J = 1.0\n",
    "random_array = np.random.random((N,N,N))\n",
    "lattice = np.zeros((N,N,N))\n",
    "lattice[random_array >= 0.7] = -1\n",
    "lattice[random_array < 0.7] = 1"
   ]
  },
  {
   "cell_type": "code",
   "execution_count": 4,
   "id": "5b131399",
   "metadata": {},
   "outputs": [],
   "source": [
    "def energy(lattice):\n",
    "  \n",
    "    for x in range(len(lattice)):\n",
    "        for y in range(len(lattice)):\n",
    "            for z in range(len(lattice)):\n",
    "                spin = lattice[x,y,z]\n",
    "                neighbour_sum = lattice[(x+1)%N,y,z] + lattice[x,(y+1)%N,z] + lattice[(x-1)%N,y,z] + lattice[x,(y-1)%N,z] + lattice[x,y,(z-1)%N] + lattice[x,y,(z+1)%N]\n",
    "                energy = -J*spin*neighbour_sum\n",
    "                \n",
    "    return energy"
   ]
  },
  {
   "cell_type": "code",
   "execution_count": 5,
   "id": "9078771a",
   "metadata": {},
   "outputs": [],
   "source": [
    "def magnetization( s ) : \n",
    "    return np.sum( s ) / (L*L)"
   ]
  },
  {
   "cell_type": "code",
   "execution_count": null,
   "id": "61301b5f",
   "metadata": {},
   "outputs": [],
   "source": []
  },
  {
   "cell_type": "code",
   "execution_count": null,
   "id": "f562692e",
   "metadata": {},
   "outputs": [],
   "source": [
    "\n",
    "def ising_model( lattice, n, T ) : \n",
    "\n",
    "    M = np.zeros(n)         # used to store the magnetizations, $M(t)$\n",
    "    E = np.zeros(n)         # used to store the energy, $E(t)$\n",
    "    E[0] = energy(lattice)\n",
    "    M[0] = magnetization(lattice)\n",
    "    for t in range(1, n) :     # $t$ is our pseudo-time\n",
    "        lattice, E[t] = metropolis( lattice, E[t-1] )\n",
    "        M[t] = magnetization( lattice )\n",
    "    return M\n",
    "        \n",
    "def metropolis(lattice, oldE) : \n",
    "    # flip a random spin and calculate $dE$\n",
    "    a = np.random.randint(0, N)\n",
    "    b = np.random.randint(0, N)\n",
    "    c = np.random.randint(0, N)\n",
    "    lattice[a,b,c] *= -1    # flip the ij spin\n",
    "    E = energy(lattice)\n",
    "    deltaE = E - oldE\n",
    "\n",
    "    # these are the Metropolis tests \n",
    "    if deltaE < 0 : \n",
    "        # keep the flipped spin because it lowers the energy\n",
    "        return lattice, E\n",
    "    if rand() < np.exp( - deltaE / T ) : \n",
    "        # keep the spin flip because the random number is less than $e^{-dE/T}$\n",
    "        return lattice, E\n",
    "\n",
    "    # the spin flip is rejected \n",
    "    lattice[a,b,c] *= -1    # flip the ij spin back\n",
    "    E = oldE        # and keep the old energy\n",
    "    return lattice, E\n",
    "\n",
    "T = 1.0           # temperature\n",
    "n = 10000         # the number of Monte Carlo time steps\n",
    "P = 100           # sorta like 1000 milliseconds in a second\n",
    "\n",
    "M = ising_model( lattice, n, T )\n",
    "plt.plot( M[::P] )  # only plot every P-th point\n",
    "plt.xlabel( '$n/%d$' % P )\n",
    "plt.ylabel( '$M$' )"
   ]
  },
  {
   "cell_type": "code",
   "execution_count": null,
   "id": "df23652d",
   "metadata": {},
   "outputs": [],
   "source": [
    "fig, ax = plt.subplots()\n",
    "\n",
    "n = 100000               # increase the number of Monte Carlo time steps\n",
    "for i in range( 10 ) :   # run the experiment 10 times\n",
    "    lattice = Lattice( N )\n",
    "    M = ising_model( lattice, n, T )\n",
    "    ax.plot(M)    # only plot every P-th point\n",
    "\n",
    "ax.plot( [0,n], [0,0] )\n",
    "\n",
    "ax.set_xlim( [ 0, n/P ] )\n",
    "ax.set_ylim( [-1.1, 1.1 ] )\n",
    "plt.xlabel( '$n/%d$' % P )\n",
    "plt.ylabel( '$M$' )"
   ]
  },
  {
   "cell_type": "code",
   "execution_count": null,
   "id": "738dfe06",
   "metadata": {},
   "outputs": [],
   "source": []
  }
 ],
 "metadata": {
  "kernelspec": {
   "display_name": "Python 3 (ipykernel)",
   "language": "python",
   "name": "python3"
  },
  "language_info": {
   "codemirror_mode": {
    "name": "ipython",
    "version": 3
   },
   "file_extension": ".py",
   "mimetype": "text/x-python",
   "name": "python",
   "nbconvert_exporter": "python",
   "pygments_lexer": "ipython3",
   "version": "3.9.15"
  }
 },
 "nbformat": 4,
 "nbformat_minor": 5
}
