{
 "cells": [
  {
   "cell_type": "markdown",
   "id": "946357ad",
   "metadata": {},
   "source": [
    "### Final model"
   ]
  },
  {
   "cell_type": "code",
   "execution_count": 100,
   "id": "157a6e41",
   "metadata": {},
   "outputs": [],
   "source": [
    "import numpy as np\n",
    "import matplotlib.pyplot as plt\n",
    "from numpy.random import rand, randint"
   ]
  },
  {
   "cell_type": "code",
   "execution_count": 101,
   "id": "7b8383a7",
   "metadata": {},
   "outputs": [],
   "source": [
    "N = 20\n",
    "J = 1.0\n",
    "random_array = np.random.random((N,N,N))\n",
    "lattice = np.zeros((N,N,N))\n",
    "lattice[random_array >= 0.7] = -1\n",
    "lattice[random_array < 0.7] = 1"
   ]
  },
  {
   "cell_type": "code",
   "execution_count": 102,
   "id": "ba8ab44d",
   "metadata": {},
   "outputs": [],
   "source": [
    "def internal_energy(lattice) : \n",
    "   \n",
    "    return (-J * ( np.sum( lattice[0:N-1,:,:] * lattice[1:N,:,:] ) + np.sum( lattice[:,0:N-1,:] * lattice[:,1:N,:] + np.sum(lattice[:,:,0:N-1]*lattice[:,:,1:N]) ) ))/(N*N)\n",
    "\n",
    "def Lattice(N) : \n",
    "   \n",
    "    return ( rand( N, N,N ) < 0.5 ) * 2 - 1\n",
    "\n",
    "lattice = Lattice(N)\n",
    "\n",
    "# def internal_energy(lattice):\n",
    "  \n",
    "#     for x in range(len(lattice)):\n",
    "#         for y in range(len(lattice)):\n",
    "#             for z in range(len(lattice)):\n",
    "#                 spin = lattice[x,y,z]\n",
    "#                 neighbour_sum = lattice[(x+1)%N,y,z] + lattice[x,(y+1)%N,z] + lattice[(x-1)%N,y,z] + lattice[x,(y-1)%N,z] + lattice[x,y,(z-1)%N] + lattice[x,y,(z+1)%N]\n",
    "#                 energy = -J*spin*neighbour_sum\n",
    "                \n",
    "#     return energy"
   ]
  },
  {
   "cell_type": "code",
   "execution_count": 103,
   "id": "d424e790",
   "metadata": {},
   "outputs": [
    {
     "data": {
      "text/plain": [
       "2280.26"
      ]
     },
     "execution_count": 103,
     "metadata": {},
     "output_type": "execute_result"
    }
   ],
   "source": [
    "internal_energy(lattice)"
   ]
  },
  {
   "cell_type": "code",
   "execution_count": 104,
   "id": "29258eaf",
   "metadata": {},
   "outputs": [],
   "source": [
    "def magnetization(lattice) : \n",
    "    return np.sum(lattice)/(N*N)"
   ]
  },
  {
   "cell_type": "code",
   "execution_count": 105,
   "id": "0cd9eef2",
   "metadata": {},
   "outputs": [
    {
     "data": {
      "text/plain": [
       "0.075"
      ]
     },
     "execution_count": 105,
     "metadata": {},
     "output_type": "execute_result"
    }
   ],
   "source": [
    "magnetization(lattice)"
   ]
  },
  {
   "cell_type": "code",
   "execution_count": 106,
   "id": "511640c8",
   "metadata": {},
   "outputs": [],
   "source": [
    "def repeat_metropolis(lattice, iterations, t):\n",
    "    \n",
    "    mag_ = np.zeros(iterations)\n",
    "    energy_ = np.zeros(iterations)\n",
    "\n",
    "    energy_[0] = internal_energy(lattice)\n",
    "    mag_[0] = magnetization(lattice)\n",
    "\n",
    "    for i in range(1, iterations):\n",
    "        lattice = metropolis_hashtings(lattice, energy_[i-1], t)[0]\n",
    "        mag_[i] = magnetization(lattice)\n",
    "\n",
    "    return mag_"
   ]
  },
  {
   "cell_type": "code",
   "execution_count": 107,
   "id": "7ab25131",
   "metadata": {},
   "outputs": [],
   "source": [
    "def metropolis_hashtings(lattice, E_i, temp):\n",
    "    a = np.random.randint(0, N)\n",
    "    b = np.random.randint(0, N)\n",
    "    c = np.random.randint(0, N)\n",
    "    \n",
    "    lattice[a,b,c] = lattice[a,b,c]*(-1)\n",
    "    r = np.random.rand()\n",
    "    \n",
    "    E_f = internal_energy(lattice)\n",
    "    \n",
    "    dE = E_f - E_i\n",
    "    \n",
    "    if(dE < 0):\n",
    "        return lattice, E_f\n",
    "    if(r < np.exp(-dE/temp)):\n",
    "        return lattice, E_f\n",
    "    \n",
    "    \n",
    "    lattice[a,b,c] = lattice[a,b,c]*(-1)\n",
    "    E_f = E_i\n",
    "    return lattice, E_f\n",
    "        "
   ]
  },
  {
   "cell_type": "code",
   "execution_count": 109,
   "id": "098fce9a",
   "metadata": {},
   "outputs": [
    {
     "data": {
      "text/plain": [
       "[<matplotlib.lines.Line2D at 0x1455515e0>]"
      ]
     },
     "execution_count": 109,
     "metadata": {},
     "output_type": "execute_result"
    },
    {
     "data": {
      "image/png": "[encoded data removed]",
      "text/plain": [
       "<Figure size 432x288 with 1 Axes>"
      ]
     },
     "metadata": {
      "needs_background": "light"
     },
     "output_type": "display_data"
    }
   ],
   "source": [
    "temp = 1\n",
    "iterations = 10000\n",
    "i = np.arange(0,iterations, 1)\n",
    "M = repeat_metropolis(lattice, iterations, temp)\n",
    "plt.plot(M)"
   ]
  },
  {
   "cell_type": "code",
   "execution_count": null,
   "id": "d16a220b",
   "metadata": {},
   "outputs": [],
   "source": []
  }
 ],
 "metadata": {
  "kernelspec": {
   "display_name": "Python 3 (ipykernel)",
   "language": "python",
   "name": "python3"
  },
  "language_info": {
   "codemirror_mode": {
    "name": "ipython",
    "version": 3
   },
   "file_extension": ".py",
   "mimetype": "text/x-python",
   "name": "python",
   "nbconvert_exporter": "python",
   "pygments_lexer": "ipython3",
   "version": "3.9.15"
  }
 },
 "nbformat": 4,
 "nbformat_minor": 5
}
