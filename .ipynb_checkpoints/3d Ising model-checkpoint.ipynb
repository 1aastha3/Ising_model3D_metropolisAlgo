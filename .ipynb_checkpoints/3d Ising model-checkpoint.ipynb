{
 "cells": [
  {
   "cell_type": "code",
   "execution_count": 1,
   "id": "81bc270f",
   "metadata": {},
   "outputs": [],
   "source": [
    "import numpy as np\n",
    "import matplotlib.pyplot as plt"
   ]
  },
  {
   "cell_type": "code",
   "execution_count": 2,
   "id": "5e06f38a",
   "metadata": {},
   "outputs": [],
   "source": [
    "G = 100"
   ]
  },
  {
   "cell_type": "code",
   "execution_count": 3,
   "id": "afd14cbf",
   "metadata": {},
   "outputs": [],
   "source": [
    "random_array = np.random.random((G,G,G))"
   ]
  },
  {
   "cell_type": "code",
   "execution_count": 4,
   "id": "83cc718e",
   "metadata": {},
   "outputs": [],
   "source": [
    "lattice = np.zeros((G,G,G))"
   ]
  },
  {
   "cell_type": "code",
   "execution_count": 5,
   "id": "86d4c251",
   "metadata": {
    "scrolled": true
   },
   "outputs": [],
   "source": [
    "lattice[random_array >= 0.7] = 1\n",
    "lattice[random_array < 0.7] = -1"
   ]
  },
  {
   "cell_type": "code",
   "execution_count": 6,
   "id": "2b716e8b",
   "metadata": {},
   "outputs": [],
   "source": [
    "# boundary of zeros otherwise error pops"
   ]
  },
  {
   "cell_type": "code",
   "execution_count": 7,
   "id": "c89b834d",
   "metadata": {},
   "outputs": [],
   "source": [
    "def boundary_condition(p):\n",
    "    if(p < 0):\n",
    "        return G-1\n",
    "    if(p > G-1):\n",
    "        return 0\n",
    "    else:\n",
    "        return p"
   ]
  },
  {
   "cell_type": "code",
   "execution_count": 8,
   "id": "34d48842",
   "metadata": {},
   "outputs": [],
   "source": [
    "def energy(lattice, P,Q,R):\n",
    "    return -1*lattice[P,Q,R]*(lattice[boundary_condition(N-1), M]+lattice[boundary_condition(N+1), M]+ lattice[N, boundary_condition(M-1)] + lattice[N, boundary_condition(M+1)])"
   ]
  },
  {
   "cell_type": "code",
   "execution_count": 9,
   "id": "50721cda",
   "metadata": {},
   "outputs": [
    {
     "data": {
      "text/plain": [
       "7.38905609893065"
      ]
     },
     "execution_count": 9,
     "metadata": {},
     "output_type": "execute_result"
    }
   ],
   "source": [
    "np.exp(-0.5*-4)"
   ]
  },
  {
   "cell_type": "code",
   "execution_count": 10,
   "id": "2115dcff",
   "metadata": {},
   "outputs": [],
   "source": [
    "def magnetization(lattice, G):\n",
    "    sum = 0\n",
    "    for i in range(0, G):\n",
    "        for j in range(0, G):\n",
    "            for k in range(0,G):\n",
    "                sum = sum + lattice[i,j,k]\n",
    "    return sum/(G*G)"
   ]
  },
  {
   "cell_type": "code",
   "execution_count": 11,
   "id": "88a9cf02",
   "metadata": {},
   "outputs": [],
   "source": [
    "iterations = 1000\n",
    "G = 100\n",
    "Energy = 0\n",
    "Mag = 0\n",
    "beta = 0.2\n",
    "E_f = np.zeros(iterations)\n",
    "E_i = np.zeros(iterations)\n",
    "dE_ = np.zeros(iterations)\n",
    "def metropolis_algo(beta, G, Energy, Mag, iterations):\n",
    "  \n",
    "    net_energy = np.zeros(iterations)\n",
    "    mag = np.zeros(iterations)\n",
    "    \n",
    "    for j in range(iterations):\n",
    "    \n",
    "        a = np.random.randint(0,G)\n",
    "        b = np.random.randint(0,G)\n",
    "        c = np.random.randint(0,G)\n",
    "        spin_1 = lattice[a,b,c]\n",
    "        spin_2 = spin_1*(-1)\n",
    "        \n",
    "        Ei = 0\n",
    "        Ef = 0\n",
    "        r = np.random.rand()\n",
    "        \n",
    "        if a>0:\n",
    "            Ei += -spin_1*lattice[a-1,b,c]\n",
    "            Ef += -spin_2*lattice[a-1,b,c]\n",
    "            \n",
    "        if a<G-1:\n",
    "            Ei += -spin_1*lattice[a+1,b,c]\n",
    "            Ef += -spin_2*lattice[a+1,b,c]\n",
    "            \n",
    "        if b>0:\n",
    "            Ei += -spin_1*lattice[a,b-1,c]\n",
    "            Ef += -spin_2*lattice[a,b-1,c]\n",
    "            \n",
    "        if b<G-1:\n",
    "            Ei += -spin_1*lattice[a,b+1,c]\n",
    "            Ef += -spin_2*lattice[a,b+1,c]\n",
    "        \n",
    "        if c<0:\n",
    "            Ei += -spin_1*lattice[a,b,c-1]\n",
    "            Ef += -spin_2*lattice[a,b,c-1]\n",
    "            \n",
    "        if c<G-1:\n",
    "            Ei += -spin_1*lattice[a,b,c+1]\n",
    "            Ef += -spin_2*lattice[a,b,c+1]\n",
    "            \n",
    "        E_f[j] = Ef\n",
    "        E_i[j] = Ei\n",
    "        dE = Ef - Ei\n",
    "        dE_ = E_f - E_i\n",
    "        if(dE <= 0):\n",
    "            lattice[a,b,c] *= -1\n",
    "            Energy = Energy + dE\n",
    "            Mag = Mag + magnetization(lattice, G)\n",
    "           \n",
    "        elif np.exp(-beta*dE) > r:\n",
    "            lattice[a,b,c] *= -1\n",
    "            Energy = Energy + dE\n",
    "            Mag = Mag + magnetization(lattice, G)\n",
    "               \n",
    "        net_energy[j] = Energy\n",
    "        mag[j] = Mag\n",
    "    return net_energy, mag, E_f, E_i, dE_"
   ]
  },
  {
   "cell_type": "code",
   "execution_count": null,
   "id": "28dd67ab",
   "metadata": {},
   "outputs": [],
   "source": [
    "metropolis_algo(beta, G, Energy, Mag, iterations)"
   ]
  },
  {
   "cell_type": "code",
   "execution_count": null,
   "id": "084a8bab",
   "metadata": {},
   "outputs": [],
   "source": [
    "metropolis_algo(beta, G, Energy, Mag, iterations)[0]"
   ]
  },
  {
   "cell_type": "code",
   "execution_count": null,
   "id": "b7e1a8ca",
   "metadata": {},
   "outputs": [],
   "source": [
    "T = np.linspace(1,7,iterations)"
   ]
  },
  {
   "cell_type": "code",
   "execution_count": null,
   "id": "e97d506a",
   "metadata": {},
   "outputs": [],
   "source": [
    "T"
   ]
  },
  {
   "cell_type": "code",
   "execution_count": null,
   "id": "18b2b695",
   "metadata": {},
   "outputs": [],
   "source": [
    "internal_energy = (metropolis_algo(beta, G, Energy, Mag, iterations)[0])\n",
    "magnetization_array = (metropolis_algo(beta, G, Energy, Mag, iterations)[1])/iterations"
   ]
  },
  {
   "cell_type": "code",
   "execution_count": null,
   "id": "ae8ebaf0",
   "metadata": {
    "scrolled": true
   },
   "outputs": [],
   "source": [
    "internal_energy"
   ]
  },
  {
   "cell_type": "code",
   "execution_count": null,
   "id": "84fe2c84",
   "metadata": {},
   "outputs": [],
   "source": [
    "magnetization_array"
   ]
  },
  {
   "cell_type": "code",
   "execution_count": null,
   "id": "cfba33d7",
   "metadata": {},
   "outputs": [],
   "source": [
    "plt.plot(T, magnetization_array)"
   ]
  },
  {
   "cell_type": "code",
   "execution_count": null,
   "id": "a3303543",
   "metadata": {},
   "outputs": [],
   "source": []
  }
 ],
 "metadata": {
  "kernelspec": {
   "display_name": "Python 3 (ipykernel)",
   "language": "python",
   "name": "python3"
  },
  "language_info": {
   "codemirror_mode": {
    "name": "ipython",
    "version": 3
   },
   "file_extension": ".py",
   "mimetype": "text/x-python",
   "name": "python",
   "nbconvert_exporter": "python",
   "pygments_lexer": "ipython3",
   "version": "3.9.15"
  }
 },
 "nbformat": 4,
 "nbformat_minor": 5
}
