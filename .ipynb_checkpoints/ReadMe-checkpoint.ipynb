{
 "cells": [
  {
   "cell_type": "markdown",
   "id": "f283f141",
   "metadata": {},
   "source": [
    "## INSTRUCTIONS"
   ]
  },
  {
   "cell_type": "markdown",
   "id": "834b45a7",
   "metadata": {},
   "source": [
    "We have imported two dependencies and their corresponding modules.\n",
    " - N : size of our 3D lattice.\n",
    " - x,y,z refer to the coordinate in the lattice whose state we have to change.\n",
    " - we could do this randomly too, but it seems to be more convenient to to go through every lattice point and flip the states. This process is called sweeping through the lattice. Going systematically, line by line, spin by spin.\n",
    " - We have initialised the coupling constant and the boltzmann constant to 1.\n",
    " - the graph of magnetization and temperature involes for both ferro and antiferromagnetic materials. We therefore consider the upper part (y > 0) for ferromagnetic materials and (y < 0) for antiferromagnetic materials.\n",
    " - Other instructions related to the inputs are given conveniently in the code itself as comments.\n",
    " - press the 'I>' button to play the simulation of the ising model.\n",
    " - the last simulated snap is the one where magnetization. \n",
    " - The gradual transition of magnetization from 1 to 0, the temperature at which this phenomenon occurs is called Curie Temperature."
   ]
  },
  {
   "cell_type": "markdown",
   "id": "0738ce2a",
   "metadata": {},
   "source": [
    "## EDGE CASES"
   ]
  },
  {
   "cell_type": "markdown",
   "id": "fcdfcde2",
   "metadata": {},
   "source": [
    "### Case 1: \n",
    " N is small. N <= 3.\n",
    " The size of our lattice is very small\n",
    "\n",
    "**** Task ****\n",
    "put N = 3 in the code.\n",
    "\n",
    "Observation: \n",
    "The scatterplot is way too scattered and confined to the a very large range. Standard deviation of magnetization is high. Not all spin states are ordered in one direction. The operation of metropolis algorithm is unable to bring the or confine the value of magnetization to close to 0 value. The operation fails for small sized lattice. Correlation is short. This means that that distant spins are weakly correlated.\n",
    "\n",
    "### Case 2:\n",
    "  N is very large. N >= 100\n",
    "  The size of our lattice is very large.\n",
    "  \n",
    "**** Task ****\n",
    "put N = 100 in the code .\n",
    "\n",
    "Observation:\n",
    "  -its python, either you have a snack and and come to see that the program is still running. Well, jokes apart. \n",
    "  -in this case , more than often a sizable fraction of spins finds itself at the edges. This can lead to pronounced effects, known as finite-size effects.\n",
    "  - Of course, such effects also appear in real systems, but typically the lattices in, say a block of iron, contain a macroscopically large number of sites (i.e. atoms), of the order of 1023. This obviously is beyond the realm of current computers.\n",
    "  - However, if the sizes range btw 20 - 50, the program runs fairly accurate with the given number of iterations. And the value of magnetization confines to a small range. That is, almost all the spin states of our lattice will face the same direction.\n",
    "  - The arguably most prominent way of doing this is to use periodic boundary conditions. They work as follows: If a spin is on the edge, the spin at the opposite edge is taken as its nearest neighbour, such that the system does not have any spins on the edge.\n",
    "  \n",
    "  \n",
    "### Case 3:\n",
    "  The displayed plot of magnetization vs temperature itself an edge case.\n",
    "  - Around 4.5 Kelvin is our Curie Temperature. It is that critical temperature above which if a ferromagnetic substance is heated, the substance loses its magnetism. In a way, we found the Curie Temperature and we can observe taht at values of temperature beyond 4.5, magnetization tends to zero. Turns into paramagnetic substance. \n",
    "  - Pick any temperature below Curie Temperature, you will find that the atoms are aligned and parallel, causing spontaneous magnetism; the material is ferromagnetic.\n",
    "  - below 0 Kelvin, molecular motion ceases to exist. \n",
    " \n",
    " **** Task****\n",
    "put T[0] < 0 (any value):\n",
    "\n",
    "Observation:\n",
    "/var/folders/1n/9fbztsyx07jgppwjlx5rfyzm0000gn/T/ipykernel_27317/555744781.py:13: RuntimeWarning: overflow encountered in exp\n",
    "  elif np.random.rand() < np.exp(-del_E/T):\n",
    "  \n",
    "This is the error. The exponential bursts. \n",
    "\n",
    "\n",
    "### Case \n",
    "\n",
    "****Task****\n",
    "put N = 20 in the code. The optimal size of lattice.\n",
    "\n",
    "Observation:\n",
    "  - Magnitization properly approaches to zero.\n",
    "  - No finite-size effects observed."
   ]
  },
  {
   "cell_type": "markdown",
   "id": "f5c7cfa6",
   "metadata": {},
   "source": [
    "### This wraps up all the edge cases.\n",
    "You will need to put the cases (mentioned as task) in the code, because it is fun to see the output. However, I have written the observation for the sake of allignment."
   ]
  }
 ],
 "metadata": {
  "kernelspec": {
   "display_name": "Python 3 (ipykernel)",
   "language": "python",
   "name": "python3"
  },
  "language_info": {
   "codemirror_mode": {
    "name": "ipython",
    "version": 3
   },
   "file_extension": ".py",
   "mimetype": "text/x-python",
   "name": "python",
   "nbconvert_exporter": "python",
   "pygments_lexer": "ipython3",
   "version": "3.9.15"
  }
 },
 "nbformat": 4,
 "nbformat_minor": 5
}
