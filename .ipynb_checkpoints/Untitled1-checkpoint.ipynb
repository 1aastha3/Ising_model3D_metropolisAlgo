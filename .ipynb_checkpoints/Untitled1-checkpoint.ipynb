{
 "cells": [
  {
   "cell_type": "code",
   "execution_count": 1,
   "id": "c2604710",
   "metadata": {},
   "outputs": [],
   "source": [
    "import numpy as np\n",
    "import matplotlib.pyplot as plt"
   ]
  },
  {
   "cell_type": "code",
   "execution_count": 2,
   "id": "e5d3e903",
   "metadata": {},
   "outputs": [],
   "source": [
    "N = 10\n",
    "random_array = np.random.random((N,N,N))\n",
    "\n",
    "lattice = np.zeros((N,N,N))\n",
    "lattice[random_array >= 0.7] = -1\n",
    "lattice[random_array < 0.7] = 1"
   ]
  },
  {
   "cell_type": "code",
   "execution_count": 3,
   "id": "ac1ac5f5",
   "metadata": {},
   "outputs": [
    {
     "data": {
      "text/plain": [
       "0.19675418583447435"
      ]
     },
     "execution_count": 3,
     "metadata": {},
     "output_type": "execute_result"
    }
   ],
   "source": [
    "np.random.rand()"
   ]
  },
  {
   "cell_type": "code",
   "execution_count": 4,
   "id": "1fe9d468",
   "metadata": {},
   "outputs": [],
   "source": [
    "def metropolis(beta, lattice, N):\n",
    "   \n",
    "    for i in range(N):\n",
    "        for j in range(N):\n",
    "            for k in range(N):\n",
    "                \n",
    "                x = np.random.randint(0, N)\n",
    "                y = np.random.randint(0, N)\n",
    "                z = np.random.randint(0, N)\n",
    "                r = np.random.rand()\n",
    "                \n",
    "                spin = lattice[x,y,z]\n",
    "                neighbour_sum = lattice[(x+1)%N,y,z] + lattice[x,(y+1)%N,z] + lattice[(x-1)%N,y,z] + lattice[x,(y-1)%N,z] + lattice[x,y,(z-1)%N] + lattice[x,y,(z+1)%N]\n",
    "\n",
    "                d_E = 2*spin*neighbour_sum\n",
    "\n",
    "                if d_E <= 0:\n",
    "                    spin = spin*(-1)\n",
    "                elif np.random.rand() < np.exp(-d_E*beta):\n",
    "                    spin = spin*(-1)\n",
    "\n",
    "    return lattice\n",
    "        "
   ]
  },
  {
   "cell_type": "code",
   "execution_count": 5,
   "id": "dcac6256",
   "metadata": {},
   "outputs": [
    {
     "data": {
      "text/plain": [
       "array([[[-1., -1.,  1., -1., -1.,  1., -1.,  1., -1.,  1.],\n",
       "        [-1.,  1.,  1., -1.,  1.,  1.,  1.,  1.,  1.,  1.],\n",
       "        [ 1., -1.,  1., -1.,  1.,  1., -1.,  1.,  1.,  1.],\n",
       "        [ 1., -1.,  1.,  1.,  1., -1.,  1.,  1.,  1.,  1.],\n",
       "        [-1.,  1.,  1.,  1.,  1., -1.,  1.,  1.,  1., -1.],\n",
       "        [ 1., -1.,  1.,  1.,  1., -1.,  1.,  1.,  1.,  1.],\n",
       "        [ 1.,  1., -1., -1., -1., -1.,  1., -1.,  1., -1.],\n",
       "        [ 1.,  1.,  1.,  1.,  1.,  1.,  1.,  1., -1.,  1.],\n",
       "        [ 1.,  1., -1.,  1.,  1.,  1.,  1., -1., -1.,  1.],\n",
       "        [-1.,  1.,  1.,  1., -1.,  1., -1., -1.,  1., -1.]],\n",
       "\n",
       "       [[-1.,  1., -1., -1., -1.,  1.,  1.,  1.,  1.,  1.],\n",
       "        [-1., -1.,  1., -1.,  1.,  1.,  1.,  1.,  1., -1.],\n",
       "        [ 1.,  1.,  1.,  1.,  1.,  1.,  1.,  1.,  1., -1.],\n",
       "        [ 1., -1., -1.,  1.,  1.,  1., -1.,  1., -1.,  1.],\n",
       "        [ 1.,  1.,  1.,  1., -1.,  1.,  1.,  1., -1.,  1.],\n",
       "        [ 1.,  1., -1.,  1.,  1., -1., -1.,  1.,  1., -1.],\n",
       "        [ 1.,  1.,  1.,  1., -1., -1.,  1., -1., -1., -1.],\n",
       "        [ 1., -1.,  1., -1.,  1., -1.,  1.,  1.,  1.,  1.],\n",
       "        [ 1.,  1.,  1., -1., -1.,  1.,  1.,  1., -1.,  1.],\n",
       "        [ 1.,  1.,  1.,  1.,  1.,  1., -1.,  1.,  1., -1.]],\n",
       "\n",
       "       [[ 1., -1., -1.,  1.,  1., -1., -1., -1., -1.,  1.],\n",
       "        [ 1., -1.,  1.,  1.,  1.,  1., -1.,  1.,  1.,  1.],\n",
       "        [-1.,  1.,  1.,  1.,  1.,  1., -1.,  1.,  1.,  1.],\n",
       "        [ 1., -1.,  1.,  1.,  1.,  1.,  1., -1.,  1., -1.],\n",
       "        [-1.,  1.,  1.,  1.,  1.,  1., -1., -1.,  1.,  1.],\n",
       "        [ 1., -1., -1.,  1., -1., -1., -1.,  1.,  1.,  1.],\n",
       "        [ 1., -1., -1.,  1., -1.,  1.,  1.,  1.,  1.,  1.],\n",
       "        [ 1.,  1.,  1.,  1., -1., -1.,  1., -1.,  1.,  1.],\n",
       "        [-1., -1.,  1.,  1.,  1.,  1., -1.,  1.,  1., -1.],\n",
       "        [ 1.,  1.,  1., -1.,  1., -1.,  1.,  1.,  1., -1.]],\n",
       "\n",
       "       [[ 1.,  1.,  1.,  1., -1.,  1.,  1.,  1.,  1.,  1.],\n",
       "        [-1.,  1.,  1.,  1., -1.,  1.,  1.,  1., -1., -1.],\n",
       "        [ 1.,  1.,  1., -1.,  1.,  1.,  1.,  1., -1., -1.],\n",
       "        [-1.,  1.,  1.,  1., -1., -1.,  1.,  1.,  1., -1.],\n",
       "        [ 1.,  1.,  1.,  1.,  1.,  1., -1.,  1.,  1., -1.],\n",
       "        [-1.,  1.,  1.,  1.,  1., -1.,  1., -1.,  1.,  1.],\n",
       "        [-1.,  1.,  1.,  1.,  1., -1.,  1.,  1.,  1.,  1.],\n",
       "        [ 1.,  1.,  1.,  1.,  1.,  1.,  1.,  1.,  1.,  1.],\n",
       "        [ 1.,  1.,  1.,  1., -1., -1.,  1., -1., -1., -1.],\n",
       "        [ 1., -1.,  1.,  1.,  1., -1.,  1.,  1.,  1.,  1.]],\n",
       "\n",
       "       [[-1., -1.,  1., -1.,  1.,  1.,  1., -1.,  1., -1.],\n",
       "        [ 1., -1.,  1.,  1.,  1.,  1., -1.,  1., -1.,  1.],\n",
       "        [ 1.,  1.,  1.,  1., -1.,  1.,  1.,  1.,  1.,  1.],\n",
       "        [ 1.,  1.,  1.,  1.,  1.,  1.,  1., -1.,  1.,  1.],\n",
       "        [-1.,  1.,  1.,  1.,  1.,  1.,  1.,  1., -1.,  1.],\n",
       "        [ 1.,  1., -1.,  1.,  1.,  1.,  1.,  1., -1.,  1.],\n",
       "        [ 1.,  1.,  1., -1., -1.,  1.,  1.,  1.,  1.,  1.],\n",
       "        [ 1., -1.,  1.,  1.,  1.,  1.,  1., -1.,  1.,  1.],\n",
       "        [ 1.,  1.,  1., -1.,  1.,  1.,  1.,  1.,  1.,  1.],\n",
       "        [ 1.,  1.,  1.,  1.,  1.,  1.,  1.,  1., -1.,  1.]],\n",
       "\n",
       "       [[ 1., -1.,  1.,  1.,  1.,  1., -1., -1.,  1.,  1.],\n",
       "        [ 1., -1.,  1.,  1.,  1.,  1.,  1.,  1.,  1., -1.],\n",
       "        [ 1., -1., -1.,  1., -1., -1.,  1.,  1.,  1., -1.],\n",
       "        [ 1.,  1.,  1.,  1.,  1.,  1.,  1., -1., -1.,  1.],\n",
       "        [ 1., -1.,  1.,  1., -1.,  1.,  1., -1.,  1.,  1.],\n",
       "        [-1.,  1.,  1., -1., -1.,  1.,  1.,  1.,  1.,  1.],\n",
       "        [ 1.,  1.,  1.,  1., -1.,  1.,  1.,  1.,  1.,  1.],\n",
       "        [ 1.,  1.,  1., -1., -1.,  1.,  1., -1., -1.,  1.],\n",
       "        [-1.,  1.,  1., -1.,  1.,  1.,  1., -1.,  1.,  1.],\n",
       "        [ 1.,  1.,  1.,  1., -1.,  1.,  1.,  1.,  1., -1.]],\n",
       "\n",
       "       [[ 1., -1., -1.,  1., -1.,  1.,  1.,  1.,  1.,  1.],\n",
       "        [-1.,  1.,  1.,  1., -1., -1., -1.,  1.,  1., -1.],\n",
       "        [ 1., -1.,  1.,  1.,  1., -1.,  1.,  1.,  1.,  1.],\n",
       "        [ 1.,  1.,  1.,  1.,  1.,  1., -1.,  1., -1., -1.],\n",
       "        [-1., -1.,  1., -1.,  1.,  1.,  1.,  1.,  1.,  1.],\n",
       "        [ 1.,  1.,  1.,  1., -1., -1.,  1.,  1., -1.,  1.],\n",
       "        [ 1.,  1.,  1.,  1.,  1.,  1.,  1., -1., -1.,  1.],\n",
       "        [ 1., -1.,  1.,  1.,  1.,  1.,  1.,  1., -1.,  1.],\n",
       "        [ 1.,  1., -1.,  1., -1.,  1.,  1.,  1., -1., -1.],\n",
       "        [-1.,  1.,  1.,  1.,  1.,  1., -1.,  1.,  1., -1.]],\n",
       "\n",
       "       [[-1.,  1., -1.,  1., -1., -1.,  1.,  1.,  1.,  1.],\n",
       "        [ 1.,  1.,  1.,  1., -1.,  1.,  1.,  1.,  1.,  1.],\n",
       "        [-1.,  1.,  1., -1., -1.,  1.,  1.,  1., -1., -1.],\n",
       "        [ 1.,  1.,  1.,  1.,  1.,  1.,  1., -1.,  1., -1.],\n",
       "        [ 1., -1.,  1.,  1.,  1.,  1.,  1.,  1., -1., -1.],\n",
       "        [ 1.,  1.,  1.,  1., -1.,  1.,  1., -1.,  1.,  1.],\n",
       "        [ 1.,  1.,  1., -1.,  1., -1., -1.,  1., -1.,  1.],\n",
       "        [-1., -1.,  1.,  1., -1.,  1., -1.,  1., -1.,  1.],\n",
       "        [ 1.,  1.,  1., -1.,  1.,  1.,  1., -1.,  1.,  1.],\n",
       "        [-1., -1.,  1.,  1., -1.,  1.,  1.,  1.,  1., -1.]],\n",
       "\n",
       "       [[-1.,  1.,  1.,  1.,  1.,  1., -1.,  1.,  1.,  1.],\n",
       "        [ 1.,  1.,  1., -1.,  1., -1.,  1., -1.,  1.,  1.],\n",
       "        [-1., -1.,  1.,  1.,  1.,  1.,  1., -1.,  1., -1.],\n",
       "        [-1.,  1.,  1.,  1.,  1., -1.,  1., -1.,  1., -1.],\n",
       "        [ 1.,  1.,  1.,  1.,  1., -1.,  1.,  1.,  1., -1.],\n",
       "        [-1.,  1.,  1.,  1., -1., -1.,  1.,  1., -1., -1.],\n",
       "        [-1.,  1.,  1.,  1.,  1.,  1., -1.,  1., -1., -1.],\n",
       "        [ 1.,  1.,  1., -1.,  1., -1.,  1.,  1., -1.,  1.],\n",
       "        [-1.,  1.,  1.,  1.,  1.,  1.,  1.,  1., -1., -1.],\n",
       "        [ 1., -1.,  1.,  1.,  1.,  1.,  1.,  1.,  1.,  1.]],\n",
       "\n",
       "       [[ 1.,  1.,  1.,  1., -1., -1., -1., -1.,  1.,  1.],\n",
       "        [ 1.,  1.,  1.,  1.,  1.,  1.,  1.,  1.,  1., -1.],\n",
       "        [ 1.,  1., -1.,  1., -1.,  1.,  1.,  1.,  1.,  1.],\n",
       "        [-1.,  1.,  1., -1.,  1., -1.,  1., -1.,  1.,  1.],\n",
       "        [ 1.,  1.,  1.,  1.,  1.,  1.,  1., -1.,  1., -1.],\n",
       "        [-1., -1.,  1., -1.,  1.,  1., -1.,  1.,  1., -1.],\n",
       "        [ 1.,  1.,  1.,  1.,  1.,  1.,  1.,  1.,  1.,  1.],\n",
       "        [ 1., -1., -1.,  1., -1.,  1.,  1.,  1., -1.,  1.],\n",
       "        [ 1.,  1.,  1.,  1., -1.,  1.,  1., -1., -1.,  1.],\n",
       "        [ 1.,  1.,  1.,  1.,  1., -1.,  1.,  1.,  1.,  1.]]])"
      ]
     },
     "execution_count": 5,
     "metadata": {},
     "output_type": "execute_result"
    }
   ],
   "source": [
    "lattice"
   ]
  },
  {
   "cell_type": "code",
   "execution_count": 6,
   "id": "b65bc56e",
   "metadata": {},
   "outputs": [],
   "source": [
    "def internal_energy(lattice, N):\n",
    "    energy = 0\n",
    "    \n",
    "    for x in range(len(lattice)):\n",
    "        for y in range(len(lattice)):\n",
    "            for z in range(len(lattice)):\n",
    "                spin = lattice[x,y,z]\n",
    "                neighbour_sum = lattice[(x+1)%N,y,z] + lattice[x,(y+1)%N,z] + lattice[(x-1)%N,y,z] + lattice[x,(y-1)%N,z] + lattice[x,y,(z-1)%N] + lattice[x,y,(z+1)%N]\n",
    "                energy = 2*spin*neighbour_sum\n",
    "                \n",
    "    return energy\n",
    "               "
   ]
  },
  {
   "cell_type": "code",
   "execution_count": 7,
   "id": "0fb593c4",
   "metadata": {},
   "outputs": [
    {
     "data": {
      "text/plain": [
       "8.0"
      ]
     },
     "execution_count": 7,
     "metadata": {},
     "output_type": "execute_result"
    }
   ],
   "source": [
    "internal_energy(lattice, 10)"
   ]
  },
  {
   "cell_type": "code",
   "execution_count": 8,
   "id": "66f10171",
   "metadata": {},
   "outputs": [],
   "source": [
    "def magnetization(lattice, N):\n",
    "     return np.abs(np.sum(lattice))/(N*N)"
   ]
  },
  {
   "cell_type": "code",
   "execution_count": 9,
   "id": "558e1ca7",
   "metadata": {},
   "outputs": [
    {
     "data": {
      "text/plain": [
       "4.16"
      ]
     },
     "execution_count": 9,
     "metadata": {},
     "output_type": "execute_result"
    }
   ],
   "source": [
    "magnetization(lattice, 10)"
   ]
  },
  {
   "cell_type": "code",
   "execution_count": null,
   "id": "7919415d",
   "metadata": {},
   "outputs": [],
   "source": [
    "np.arange(0.1, 4.0, 0.2)"
   ]
  },
  {
   "cell_type": "code",
   "execution_count": 11,
   "id": "43581738",
   "metadata": {},
   "outputs": [],
   "source": [
    "random_array = np.random.random((N,N,N))\n",
    "lattice = np.zeros((N,N,N))\n",
    "lattice[random_array >= 0.7] = 1\n",
    "lattice[random_array < 0.7] = -1\n",
    "\n",
    "def metro():\n",
    "    N = 10\n",
    "    sweeps = 1000\n",
    "    initial_sweep = 50\n",
    "    total_sweeps = initial_sweep + sweeps\n",
    "\n",
    "    for temp in np.arange(0.1, 4.0, 0.2):\n",
    "        mag_ = np.zeros(total_sweeps)\n",
    "        energy_ = np.zeros(total_sweeps)\n",
    "\n",
    "        for sweeps in range(total_sweeps):\n",
    "            for i in range(N):\n",
    "                for j in range(N):\n",
    "                    for k in range(N):\n",
    "\n",
    "                        x = np.random.randint(0, N)\n",
    "                        y = np.random.randint(0, N)\n",
    "                        z = np.random.randint(0, N)\n",
    "                        r = np.random.rand()\n",
    "\n",
    "                        spin = lattice[x,y,z]\n",
    "                        neighbour_sum = lattice[(x+1)%N,y,z] + lattice[x,(y+1)%N,z] + lattice[(x-1)%N,y,z] + lattice[x,(y-1)%N,z] + lattice[x,y,(z-1)%N] + lattice[x,y,(z+1)%N]\n",
    "\n",
    "                        d_E = 2*spin*neighbour_sum\n",
    "\n",
    "                        if d_E <= 0:\n",
    "                            spin = spin*(-1)\n",
    "                        elif np.random.rand() < np.exp(-d_E*temp):\n",
    "                            spin = spin*(-1)\n",
    "\n",
    "            mag_[sweeps] = magnetization(lattice, N)\n",
    "            energy_[sweeps] = internal_energy(lattice, N)\n",
    "    return mag_, energy"
   ]
  },
  {
   "cell_type": "code",
   "execution_count": null,
   "id": "173d3410",
   "metadata": {},
   "outputs": [],
   "source": [
    "metro()"
   ]
  },
  {
   "cell_type": "code",
   "execution_count": null,
   "id": "1084d3f7",
   "metadata": {},
   "outputs": [],
   "source": []
  }
 ],
 "metadata": {
  "kernelspec": {
   "display_name": "Python 3 (ipykernel)",
   "language": "python",
   "name": "python3"
  },
  "language_info": {
   "codemirror_mode": {
    "name": "ipython",
    "version": 3
   },
   "file_extension": ".py",
   "mimetype": "text/x-python",
   "name": "python",
   "nbconvert_exporter": "python",
   "pygments_lexer": "ipython3",
   "version": "3.9.15"
  }
 },
 "nbformat": 4,
 "nbformat_minor": 5
}
